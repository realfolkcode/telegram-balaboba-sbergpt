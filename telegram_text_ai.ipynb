{
  "nbformat": 4,
  "nbformat_minor": 0,
  "metadata": {
    "colab": {
      "name": "telegram-text-ai.ipynb",
      "provenance": [],
      "collapsed_sections": []
    },
    "kernelspec": {
      "display_name": "Python 3",
      "name": "python3"
    },
    "widgets": {
      "application/vnd.jupyter.widget-state+json": {
        "6ccf188cab85433f8544be13db459e89": {
          "model_module": "@jupyter-widgets/controls",
          "model_name": "HBoxModel",
          "state": {
            "_view_name": "HBoxView",
            "_dom_classes": [],
            "_model_name": "HBoxModel",
            "_view_module": "@jupyter-widgets/controls",
            "_model_module_version": "1.5.0",
            "_view_count": null,
            "_view_module_version": "1.5.0",
            "box_style": "",
            "layout": "IPY_MODEL_37f3d64154824368a1dd1ed52a7a09d0",
            "_model_module": "@jupyter-widgets/controls",
            "children": [
              "IPY_MODEL_e660c9cb309044a7b68e736fcbb5deec",
              "IPY_MODEL_71782eba3eaa439fa14db5d53bc203ff"
            ]
          }
        },
        "37f3d64154824368a1dd1ed52a7a09d0": {
          "model_module": "@jupyter-widgets/base",
          "model_name": "LayoutModel",
          "state": {
            "_view_name": "LayoutView",
            "grid_template_rows": null,
            "right": null,
            "justify_content": null,
            "_view_module": "@jupyter-widgets/base",
            "overflow": null,
            "_model_module_version": "1.2.0",
            "_view_count": null,
            "flex_flow": null,
            "width": null,
            "min_width": null,
            "border": null,
            "align_items": null,
            "bottom": null,
            "_model_module": "@jupyter-widgets/base",
            "top": null,
            "grid_column": null,
            "overflow_y": null,
            "overflow_x": null,
            "grid_auto_flow": null,
            "grid_area": null,
            "grid_template_columns": null,
            "flex": null,
            "_model_name": "LayoutModel",
            "justify_items": null,
            "grid_row": null,
            "max_height": null,
            "align_content": null,
            "visibility": null,
            "align_self": null,
            "height": null,
            "min_height": null,
            "padding": null,
            "grid_auto_rows": null,
            "grid_gap": null,
            "max_width": null,
            "order": null,
            "_view_module_version": "1.2.0",
            "grid_template_areas": null,
            "object_position": null,
            "object_fit": null,
            "grid_auto_columns": null,
            "margin": null,
            "display": null,
            "left": null
          }
        },
        "e660c9cb309044a7b68e736fcbb5deec": {
          "model_module": "@jupyter-widgets/controls",
          "model_name": "FloatProgressModel",
          "state": {
            "_view_name": "ProgressView",
            "style": "IPY_MODEL_38e5f199c1654aae88bbbd55d5cd75a1",
            "_dom_classes": [],
            "description": "Downloading: 100%",
            "_model_name": "FloatProgressModel",
            "bar_style": "success",
            "max": 1713123,
            "_view_module": "@jupyter-widgets/controls",
            "_model_module_version": "1.5.0",
            "value": 1713123,
            "_view_count": null,
            "_view_module_version": "1.5.0",
            "orientation": "horizontal",
            "min": 0,
            "description_tooltip": null,
            "_model_module": "@jupyter-widgets/controls",
            "layout": "IPY_MODEL_16ad1930d7204d11973deec33e7a8fa7"
          }
        },
        "71782eba3eaa439fa14db5d53bc203ff": {
          "model_module": "@jupyter-widgets/controls",
          "model_name": "HTMLModel",
          "state": {
            "_view_name": "HTMLView",
            "style": "IPY_MODEL_a7b561883cc24a719327658c9c966081",
            "_dom_classes": [],
            "description": "",
            "_model_name": "HTMLModel",
            "placeholder": "​",
            "_view_module": "@jupyter-widgets/controls",
            "_model_module_version": "1.5.0",
            "value": " 1.71M/1.71M [00:00&lt;00:00, 11.4MB/s]",
            "_view_count": null,
            "_view_module_version": "1.5.0",
            "description_tooltip": null,
            "_model_module": "@jupyter-widgets/controls",
            "layout": "IPY_MODEL_85e0e635aa4a415da5ac695399eb670b"
          }
        },
        "38e5f199c1654aae88bbbd55d5cd75a1": {
          "model_module": "@jupyter-widgets/controls",
          "model_name": "ProgressStyleModel",
          "state": {
            "_view_name": "StyleView",
            "_model_name": "ProgressStyleModel",
            "description_width": "initial",
            "_view_module": "@jupyter-widgets/base",
            "_model_module_version": "1.5.0",
            "_view_count": null,
            "_view_module_version": "1.2.0",
            "bar_color": null,
            "_model_module": "@jupyter-widgets/controls"
          }
        },
        "16ad1930d7204d11973deec33e7a8fa7": {
          "model_module": "@jupyter-widgets/base",
          "model_name": "LayoutModel",
          "state": {
            "_view_name": "LayoutView",
            "grid_template_rows": null,
            "right": null,
            "justify_content": null,
            "_view_module": "@jupyter-widgets/base",
            "overflow": null,
            "_model_module_version": "1.2.0",
            "_view_count": null,
            "flex_flow": null,
            "width": null,
            "min_width": null,
            "border": null,
            "align_items": null,
            "bottom": null,
            "_model_module": "@jupyter-widgets/base",
            "top": null,
            "grid_column": null,
            "overflow_y": null,
            "overflow_x": null,
            "grid_auto_flow": null,
            "grid_area": null,
            "grid_template_columns": null,
            "flex": null,
            "_model_name": "LayoutModel",
            "justify_items": null,
            "grid_row": null,
            "max_height": null,
            "align_content": null,
            "visibility": null,
            "align_self": null,
            "height": null,
            "min_height": null,
            "padding": null,
            "grid_auto_rows": null,
            "grid_gap": null,
            "max_width": null,
            "order": null,
            "_view_module_version": "1.2.0",
            "grid_template_areas": null,
            "object_position": null,
            "object_fit": null,
            "grid_auto_columns": null,
            "margin": null,
            "display": null,
            "left": null
          }
        },
        "a7b561883cc24a719327658c9c966081": {
          "model_module": "@jupyter-widgets/controls",
          "model_name": "DescriptionStyleModel",
          "state": {
            "_view_name": "StyleView",
            "_model_name": "DescriptionStyleModel",
            "description_width": "",
            "_view_module": "@jupyter-widgets/base",
            "_model_module_version": "1.5.0",
            "_view_count": null,
            "_view_module_version": "1.2.0",
            "_model_module": "@jupyter-widgets/controls"
          }
        },
        "85e0e635aa4a415da5ac695399eb670b": {
          "model_module": "@jupyter-widgets/base",
          "model_name": "LayoutModel",
          "state": {
            "_view_name": "LayoutView",
            "grid_template_rows": null,
            "right": null,
            "justify_content": null,
            "_view_module": "@jupyter-widgets/base",
            "overflow": null,
            "_model_module_version": "1.2.0",
            "_view_count": null,
            "flex_flow": null,
            "width": null,
            "min_width": null,
            "border": null,
            "align_items": null,
            "bottom": null,
            "_model_module": "@jupyter-widgets/base",
            "top": null,
            "grid_column": null,
            "overflow_y": null,
            "overflow_x": null,
            "grid_auto_flow": null,
            "grid_area": null,
            "grid_template_columns": null,
            "flex": null,
            "_model_name": "LayoutModel",
            "justify_items": null,
            "grid_row": null,
            "max_height": null,
            "align_content": null,
            "visibility": null,
            "align_self": null,
            "height": null,
            "min_height": null,
            "padding": null,
            "grid_auto_rows": null,
            "grid_gap": null,
            "max_width": null,
            "order": null,
            "_view_module_version": "1.2.0",
            "grid_template_areas": null,
            "object_position": null,
            "object_fit": null,
            "grid_auto_columns": null,
            "margin": null,
            "display": null,
            "left": null
          }
        },
        "65f9aa06467344c3a0c00d704e798350": {
          "model_module": "@jupyter-widgets/controls",
          "model_name": "HBoxModel",
          "state": {
            "_view_name": "HBoxView",
            "_dom_classes": [],
            "_model_name": "HBoxModel",
            "_view_module": "@jupyter-widgets/controls",
            "_model_module_version": "1.5.0",
            "_view_count": null,
            "_view_module_version": "1.5.0",
            "box_style": "",
            "layout": "IPY_MODEL_9bcda8ad246e43fd87990b4d511452a7",
            "_model_module": "@jupyter-widgets/controls",
            "children": [
              "IPY_MODEL_5cad71275ec0456fbb76074348f6689b",
              "IPY_MODEL_96fc07e75b6b491d985996b34f593db7"
            ]
          }
        },
        "9bcda8ad246e43fd87990b4d511452a7": {
          "model_module": "@jupyter-widgets/base",
          "model_name": "LayoutModel",
          "state": {
            "_view_name": "LayoutView",
            "grid_template_rows": null,
            "right": null,
            "justify_content": null,
            "_view_module": "@jupyter-widgets/base",
            "overflow": null,
            "_model_module_version": "1.2.0",
            "_view_count": null,
            "flex_flow": null,
            "width": null,
            "min_width": null,
            "border": null,
            "align_items": null,
            "bottom": null,
            "_model_module": "@jupyter-widgets/base",
            "top": null,
            "grid_column": null,
            "overflow_y": null,
            "overflow_x": null,
            "grid_auto_flow": null,
            "grid_area": null,
            "grid_template_columns": null,
            "flex": null,
            "_model_name": "LayoutModel",
            "justify_items": null,
            "grid_row": null,
            "max_height": null,
            "align_content": null,
            "visibility": null,
            "align_self": null,
            "height": null,
            "min_height": null,
            "padding": null,
            "grid_auto_rows": null,
            "grid_gap": null,
            "max_width": null,
            "order": null,
            "_view_module_version": "1.2.0",
            "grid_template_areas": null,
            "object_position": null,
            "object_fit": null,
            "grid_auto_columns": null,
            "margin": null,
            "display": null,
            "left": null
          }
        },
        "5cad71275ec0456fbb76074348f6689b": {
          "model_module": "@jupyter-widgets/controls",
          "model_name": "FloatProgressModel",
          "state": {
            "_view_name": "ProgressView",
            "style": "IPY_MODEL_c875414d8817440eb5ae6f80cca5e120",
            "_dom_classes": [],
            "description": "Downloading: 100%",
            "_model_name": "FloatProgressModel",
            "bar_style": "success",
            "max": 1270925,
            "_view_module": "@jupyter-widgets/controls",
            "_model_module_version": "1.5.0",
            "value": 1270925,
            "_view_count": null,
            "_view_module_version": "1.5.0",
            "orientation": "horizontal",
            "min": 0,
            "description_tooltip": null,
            "_model_module": "@jupyter-widgets/controls",
            "layout": "IPY_MODEL_ca465d2565a8487dbd2944ca5c82b733"
          }
        },
        "96fc07e75b6b491d985996b34f593db7": {
          "model_module": "@jupyter-widgets/controls",
          "model_name": "HTMLModel",
          "state": {
            "_view_name": "HTMLView",
            "style": "IPY_MODEL_1eba9e16bc5b4f319a9373d0f54fbfac",
            "_dom_classes": [],
            "description": "",
            "_model_name": "HTMLModel",
            "placeholder": "​",
            "_view_module": "@jupyter-widgets/controls",
            "_model_module_version": "1.5.0",
            "value": " 1.27M/1.27M [00:00&lt;00:00, 4.58MB/s]",
            "_view_count": null,
            "_view_module_version": "1.5.0",
            "description_tooltip": null,
            "_model_module": "@jupyter-widgets/controls",
            "layout": "IPY_MODEL_608d694a9dcd4c6c9bedfc97d6821c80"
          }
        },
        "c875414d8817440eb5ae6f80cca5e120": {
          "model_module": "@jupyter-widgets/controls",
          "model_name": "ProgressStyleModel",
          "state": {
            "_view_name": "StyleView",
            "_model_name": "ProgressStyleModel",
            "description_width": "initial",
            "_view_module": "@jupyter-widgets/base",
            "_model_module_version": "1.5.0",
            "_view_count": null,
            "_view_module_version": "1.2.0",
            "bar_color": null,
            "_model_module": "@jupyter-widgets/controls"
          }
        },
        "ca465d2565a8487dbd2944ca5c82b733": {
          "model_module": "@jupyter-widgets/base",
          "model_name": "LayoutModel",
          "state": {
            "_view_name": "LayoutView",
            "grid_template_rows": null,
            "right": null,
            "justify_content": null,
            "_view_module": "@jupyter-widgets/base",
            "overflow": null,
            "_model_module_version": "1.2.0",
            "_view_count": null,
            "flex_flow": null,
            "width": null,
            "min_width": null,
            "border": null,
            "align_items": null,
            "bottom": null,
            "_model_module": "@jupyter-widgets/base",
            "top": null,
            "grid_column": null,
            "overflow_y": null,
            "overflow_x": null,
            "grid_auto_flow": null,
            "grid_area": null,
            "grid_template_columns": null,
            "flex": null,
            "_model_name": "LayoutModel",
            "justify_items": null,
            "grid_row": null,
            "max_height": null,
            "align_content": null,
            "visibility": null,
            "align_self": null,
            "height": null,
            "min_height": null,
            "padding": null,
            "grid_auto_rows": null,
            "grid_gap": null,
            "max_width": null,
            "order": null,
            "_view_module_version": "1.2.0",
            "grid_template_areas": null,
            "object_position": null,
            "object_fit": null,
            "grid_auto_columns": null,
            "margin": null,
            "display": null,
            "left": null
          }
        },
        "1eba9e16bc5b4f319a9373d0f54fbfac": {
          "model_module": "@jupyter-widgets/controls",
          "model_name": "DescriptionStyleModel",
          "state": {
            "_view_name": "StyleView",
            "_model_name": "DescriptionStyleModel",
            "description_width": "",
            "_view_module": "@jupyter-widgets/base",
            "_model_module_version": "1.5.0",
            "_view_count": null,
            "_view_module_version": "1.2.0",
            "_model_module": "@jupyter-widgets/controls"
          }
        },
        "608d694a9dcd4c6c9bedfc97d6821c80": {
          "model_module": "@jupyter-widgets/base",
          "model_name": "LayoutModel",
          "state": {
            "_view_name": "LayoutView",
            "grid_template_rows": null,
            "right": null,
            "justify_content": null,
            "_view_module": "@jupyter-widgets/base",
            "overflow": null,
            "_model_module_version": "1.2.0",
            "_view_count": null,
            "flex_flow": null,
            "width": null,
            "min_width": null,
            "border": null,
            "align_items": null,
            "bottom": null,
            "_model_module": "@jupyter-widgets/base",
            "top": null,
            "grid_column": null,
            "overflow_y": null,
            "overflow_x": null,
            "grid_auto_flow": null,
            "grid_area": null,
            "grid_template_columns": null,
            "flex": null,
            "_model_name": "LayoutModel",
            "justify_items": null,
            "grid_row": null,
            "max_height": null,
            "align_content": null,
            "visibility": null,
            "align_self": null,
            "height": null,
            "min_height": null,
            "padding": null,
            "grid_auto_rows": null,
            "grid_gap": null,
            "max_width": null,
            "order": null,
            "_view_module_version": "1.2.0",
            "grid_template_areas": null,
            "object_position": null,
            "object_fit": null,
            "grid_auto_columns": null,
            "margin": null,
            "display": null,
            "left": null
          }
        },
        "266c42952bd1476394658580a1e50461": {
          "model_module": "@jupyter-widgets/controls",
          "model_name": "HBoxModel",
          "state": {
            "_view_name": "HBoxView",
            "_dom_classes": [],
            "_model_name": "HBoxModel",
            "_view_module": "@jupyter-widgets/controls",
            "_model_module_version": "1.5.0",
            "_view_count": null,
            "_view_module_version": "1.5.0",
            "box_style": "",
            "layout": "IPY_MODEL_665f9d75e0c8447ea65555925ac6acfc",
            "_model_module": "@jupyter-widgets/controls",
            "children": [
              "IPY_MODEL_200d826326da47f5be1157c5b6508027",
              "IPY_MODEL_f876b5ee263240e8bc5a51ed42c98b3a"
            ]
          }
        },
        "665f9d75e0c8447ea65555925ac6acfc": {
          "model_module": "@jupyter-widgets/base",
          "model_name": "LayoutModel",
          "state": {
            "_view_name": "LayoutView",
            "grid_template_rows": null,
            "right": null,
            "justify_content": null,
            "_view_module": "@jupyter-widgets/base",
            "overflow": null,
            "_model_module_version": "1.2.0",
            "_view_count": null,
            "flex_flow": null,
            "width": null,
            "min_width": null,
            "border": null,
            "align_items": null,
            "bottom": null,
            "_model_module": "@jupyter-widgets/base",
            "top": null,
            "grid_column": null,
            "overflow_y": null,
            "overflow_x": null,
            "grid_auto_flow": null,
            "grid_area": null,
            "grid_template_columns": null,
            "flex": null,
            "_model_name": "LayoutModel",
            "justify_items": null,
            "grid_row": null,
            "max_height": null,
            "align_content": null,
            "visibility": null,
            "align_self": null,
            "height": null,
            "min_height": null,
            "padding": null,
            "grid_auto_rows": null,
            "grid_gap": null,
            "max_width": null,
            "order": null,
            "_view_module_version": "1.2.0",
            "grid_template_areas": null,
            "object_position": null,
            "object_fit": null,
            "grid_auto_columns": null,
            "margin": null,
            "display": null,
            "left": null
          }
        },
        "200d826326da47f5be1157c5b6508027": {
          "model_module": "@jupyter-widgets/controls",
          "model_name": "FloatProgressModel",
          "state": {
            "_view_name": "ProgressView",
            "style": "IPY_MODEL_205e5a65d1ee4b38b95c4c3578ffc635",
            "_dom_classes": [],
            "description": "Downloading: 100%",
            "_model_name": "FloatProgressModel",
            "bar_style": "success",
            "max": 609,
            "_view_module": "@jupyter-widgets/controls",
            "_model_module_version": "1.5.0",
            "value": 609,
            "_view_count": null,
            "_view_module_version": "1.5.0",
            "orientation": "horizontal",
            "min": 0,
            "description_tooltip": null,
            "_model_module": "@jupyter-widgets/controls",
            "layout": "IPY_MODEL_b53d9fd175c84a46a53e29531fdbccd4"
          }
        },
        "f876b5ee263240e8bc5a51ed42c98b3a": {
          "model_module": "@jupyter-widgets/controls",
          "model_name": "HTMLModel",
          "state": {
            "_view_name": "HTMLView",
            "style": "IPY_MODEL_a330d42043924220a1c5e359b4fc9b89",
            "_dom_classes": [],
            "description": "",
            "_model_name": "HTMLModel",
            "placeholder": "​",
            "_view_module": "@jupyter-widgets/controls",
            "_model_module_version": "1.5.0",
            "value": " 609/609 [00:02&lt;00:00, 297B/s]",
            "_view_count": null,
            "_view_module_version": "1.5.0",
            "description_tooltip": null,
            "_model_module": "@jupyter-widgets/controls",
            "layout": "IPY_MODEL_6c54f39aacbc4751b1744d723f2b58c3"
          }
        },
        "205e5a65d1ee4b38b95c4c3578ffc635": {
          "model_module": "@jupyter-widgets/controls",
          "model_name": "ProgressStyleModel",
          "state": {
            "_view_name": "StyleView",
            "_model_name": "ProgressStyleModel",
            "description_width": "initial",
            "_view_module": "@jupyter-widgets/base",
            "_model_module_version": "1.5.0",
            "_view_count": null,
            "_view_module_version": "1.2.0",
            "bar_color": null,
            "_model_module": "@jupyter-widgets/controls"
          }
        },
        "b53d9fd175c84a46a53e29531fdbccd4": {
          "model_module": "@jupyter-widgets/base",
          "model_name": "LayoutModel",
          "state": {
            "_view_name": "LayoutView",
            "grid_template_rows": null,
            "right": null,
            "justify_content": null,
            "_view_module": "@jupyter-widgets/base",
            "overflow": null,
            "_model_module_version": "1.2.0",
            "_view_count": null,
            "flex_flow": null,
            "width": null,
            "min_width": null,
            "border": null,
            "align_items": null,
            "bottom": null,
            "_model_module": "@jupyter-widgets/base",
            "top": null,
            "grid_column": null,
            "overflow_y": null,
            "overflow_x": null,
            "grid_auto_flow": null,
            "grid_area": null,
            "grid_template_columns": null,
            "flex": null,
            "_model_name": "LayoutModel",
            "justify_items": null,
            "grid_row": null,
            "max_height": null,
            "align_content": null,
            "visibility": null,
            "align_self": null,
            "height": null,
            "min_height": null,
            "padding": null,
            "grid_auto_rows": null,
            "grid_gap": null,
            "max_width": null,
            "order": null,
            "_view_module_version": "1.2.0",
            "grid_template_areas": null,
            "object_position": null,
            "object_fit": null,
            "grid_auto_columns": null,
            "margin": null,
            "display": null,
            "left": null
          }
        },
        "a330d42043924220a1c5e359b4fc9b89": {
          "model_module": "@jupyter-widgets/controls",
          "model_name": "DescriptionStyleModel",
          "state": {
            "_view_name": "StyleView",
            "_model_name": "DescriptionStyleModel",
            "description_width": "",
            "_view_module": "@jupyter-widgets/base",
            "_model_module_version": "1.5.0",
            "_view_count": null,
            "_view_module_version": "1.2.0",
            "_model_module": "@jupyter-widgets/controls"
          }
        },
        "6c54f39aacbc4751b1744d723f2b58c3": {
          "model_module": "@jupyter-widgets/base",
          "model_name": "LayoutModel",
          "state": {
            "_view_name": "LayoutView",
            "grid_template_rows": null,
            "right": null,
            "justify_content": null,
            "_view_module": "@jupyter-widgets/base",
            "overflow": null,
            "_model_module_version": "1.2.0",
            "_view_count": null,
            "flex_flow": null,
            "width": null,
            "min_width": null,
            "border": null,
            "align_items": null,
            "bottom": null,
            "_model_module": "@jupyter-widgets/base",
            "top": null,
            "grid_column": null,
            "overflow_y": null,
            "overflow_x": null,
            "grid_auto_flow": null,
            "grid_area": null,
            "grid_template_columns": null,
            "flex": null,
            "_model_name": "LayoutModel",
            "justify_items": null,
            "grid_row": null,
            "max_height": null,
            "align_content": null,
            "visibility": null,
            "align_self": null,
            "height": null,
            "min_height": null,
            "padding": null,
            "grid_auto_rows": null,
            "grid_gap": null,
            "max_width": null,
            "order": null,
            "_view_module_version": "1.2.0",
            "grid_template_areas": null,
            "object_position": null,
            "object_fit": null,
            "grid_auto_columns": null,
            "margin": null,
            "display": null,
            "left": null
          }
        },
        "a5b5e713daf9427daa9240696420c2bc": {
          "model_module": "@jupyter-widgets/controls",
          "model_name": "HBoxModel",
          "state": {
            "_view_name": "HBoxView",
            "_dom_classes": [],
            "_model_name": "HBoxModel",
            "_view_module": "@jupyter-widgets/controls",
            "_model_module_version": "1.5.0",
            "_view_count": null,
            "_view_module_version": "1.5.0",
            "box_style": "",
            "layout": "IPY_MODEL_019ecdc386e2460d840d4540bfaa1051",
            "_model_module": "@jupyter-widgets/controls",
            "children": [
              "IPY_MODEL_1c54772dc0514887ad1f9af678358373",
              "IPY_MODEL_13c473947d754ff7a46aa3a04daf4dbc"
            ]
          }
        },
        "019ecdc386e2460d840d4540bfaa1051": {
          "model_module": "@jupyter-widgets/base",
          "model_name": "LayoutModel",
          "state": {
            "_view_name": "LayoutView",
            "grid_template_rows": null,
            "right": null,
            "justify_content": null,
            "_view_module": "@jupyter-widgets/base",
            "overflow": null,
            "_model_module_version": "1.2.0",
            "_view_count": null,
            "flex_flow": null,
            "width": null,
            "min_width": null,
            "border": null,
            "align_items": null,
            "bottom": null,
            "_model_module": "@jupyter-widgets/base",
            "top": null,
            "grid_column": null,
            "overflow_y": null,
            "overflow_x": null,
            "grid_auto_flow": null,
            "grid_area": null,
            "grid_template_columns": null,
            "flex": null,
            "_model_name": "LayoutModel",
            "justify_items": null,
            "grid_row": null,
            "max_height": null,
            "align_content": null,
            "visibility": null,
            "align_self": null,
            "height": null,
            "min_height": null,
            "padding": null,
            "grid_auto_rows": null,
            "grid_gap": null,
            "max_width": null,
            "order": null,
            "_view_module_version": "1.2.0",
            "grid_template_areas": null,
            "object_position": null,
            "object_fit": null,
            "grid_auto_columns": null,
            "margin": null,
            "display": null,
            "left": null
          }
        },
        "1c54772dc0514887ad1f9af678358373": {
          "model_module": "@jupyter-widgets/controls",
          "model_name": "FloatProgressModel",
          "state": {
            "_view_name": "ProgressView",
            "style": "IPY_MODEL_b1e4acdfba1a4e1eb1b0914426724139",
            "_dom_classes": [],
            "description": "Downloading: 100%",
            "_model_name": "FloatProgressModel",
            "bar_style": "success",
            "max": 3141928084,
            "_view_module": "@jupyter-widgets/controls",
            "_model_module_version": "1.5.0",
            "value": 3141928084,
            "_view_count": null,
            "_view_module_version": "1.5.0",
            "orientation": "horizontal",
            "min": 0,
            "description_tooltip": null,
            "_model_module": "@jupyter-widgets/controls",
            "layout": "IPY_MODEL_19ab1e9dc079409bb313b555847531ab"
          }
        },
        "13c473947d754ff7a46aa3a04daf4dbc": {
          "model_module": "@jupyter-widgets/controls",
          "model_name": "HTMLModel",
          "state": {
            "_view_name": "HTMLView",
            "style": "IPY_MODEL_7bc459e4f7a74ac2a5975296f297ea86",
            "_dom_classes": [],
            "description": "",
            "_model_name": "HTMLModel",
            "placeholder": "​",
            "_view_module": "@jupyter-widgets/controls",
            "_model_module_version": "1.5.0",
            "value": " 3.14G/3.14G [01:20&lt;00:00, 39.0MB/s]",
            "_view_count": null,
            "_view_module_version": "1.5.0",
            "description_tooltip": null,
            "_model_module": "@jupyter-widgets/controls",
            "layout": "IPY_MODEL_eeaa994b1320495ab7573f7729614660"
          }
        },
        "b1e4acdfba1a4e1eb1b0914426724139": {
          "model_module": "@jupyter-widgets/controls",
          "model_name": "ProgressStyleModel",
          "state": {
            "_view_name": "StyleView",
            "_model_name": "ProgressStyleModel",
            "description_width": "initial",
            "_view_module": "@jupyter-widgets/base",
            "_model_module_version": "1.5.0",
            "_view_count": null,
            "_view_module_version": "1.2.0",
            "bar_color": null,
            "_model_module": "@jupyter-widgets/controls"
          }
        },
        "19ab1e9dc079409bb313b555847531ab": {
          "model_module": "@jupyter-widgets/base",
          "model_name": "LayoutModel",
          "state": {
            "_view_name": "LayoutView",
            "grid_template_rows": null,
            "right": null,
            "justify_content": null,
            "_view_module": "@jupyter-widgets/base",
            "overflow": null,
            "_model_module_version": "1.2.0",
            "_view_count": null,
            "flex_flow": null,
            "width": null,
            "min_width": null,
            "border": null,
            "align_items": null,
            "bottom": null,
            "_model_module": "@jupyter-widgets/base",
            "top": null,
            "grid_column": null,
            "overflow_y": null,
            "overflow_x": null,
            "grid_auto_flow": null,
            "grid_area": null,
            "grid_template_columns": null,
            "flex": null,
            "_model_name": "LayoutModel",
            "justify_items": null,
            "grid_row": null,
            "max_height": null,
            "align_content": null,
            "visibility": null,
            "align_self": null,
            "height": null,
            "min_height": null,
            "padding": null,
            "grid_auto_rows": null,
            "grid_gap": null,
            "max_width": null,
            "order": null,
            "_view_module_version": "1.2.0",
            "grid_template_areas": null,
            "object_position": null,
            "object_fit": null,
            "grid_auto_columns": null,
            "margin": null,
            "display": null,
            "left": null
          }
        },
        "7bc459e4f7a74ac2a5975296f297ea86": {
          "model_module": "@jupyter-widgets/controls",
          "model_name": "DescriptionStyleModel",
          "state": {
            "_view_name": "StyleView",
            "_model_name": "DescriptionStyleModel",
            "description_width": "",
            "_view_module": "@jupyter-widgets/base",
            "_model_module_version": "1.5.0",
            "_view_count": null,
            "_view_module_version": "1.2.0",
            "_model_module": "@jupyter-widgets/controls"
          }
        },
        "eeaa994b1320495ab7573f7729614660": {
          "model_module": "@jupyter-widgets/base",
          "model_name": "LayoutModel",
          "state": {
            "_view_name": "LayoutView",
            "grid_template_rows": null,
            "right": null,
            "justify_content": null,
            "_view_module": "@jupyter-widgets/base",
            "overflow": null,
            "_model_module_version": "1.2.0",
            "_view_count": null,
            "flex_flow": null,
            "width": null,
            "min_width": null,
            "border": null,
            "align_items": null,
            "bottom": null,
            "_model_module": "@jupyter-widgets/base",
            "top": null,
            "grid_column": null,
            "overflow_y": null,
            "overflow_x": null,
            "grid_auto_flow": null,
            "grid_area": null,
            "grid_template_columns": null,
            "flex": null,
            "_model_name": "LayoutModel",
            "justify_items": null,
            "grid_row": null,
            "max_height": null,
            "align_content": null,
            "visibility": null,
            "align_self": null,
            "height": null,
            "min_height": null,
            "padding": null,
            "grid_auto_rows": null,
            "grid_gap": null,
            "max_width": null,
            "order": null,
            "_view_module_version": "1.2.0",
            "grid_template_areas": null,
            "object_position": null,
            "object_fit": null,
            "grid_auto_columns": null,
            "margin": null,
            "display": null,
            "left": null
          }
        }
      }
    }
  },
  "cells": [
    {
      "cell_type": "code",
      "metadata": {
        "colab": {
          "base_uri": "https://localhost:8080/",
          "height": 522
        },
        "id": "hXgp-uWOxznr",
        "outputId": "53e3bdcb-d7c5-4c10-abeb-7823b5dac3f0"
      },
      "source": [
        "! pip install python-telegram-bot"
      ],
      "execution_count": null,
      "outputs": [
        {
          "output_type": "stream",
          "text": [
            "Collecting python-telegram-bot\n",
            "\u001b[?25l  Downloading https://files.pythonhosted.org/packages/db/b5/053573e882ca7ececc32f36af07028c14bc44e4dab42b5990fb921c38901/python_telegram_bot-13.6-py3-none-any.whl (484kB)\n",
            "\r\u001b[K     |▊                               | 10kB 16.9MB/s eta 0:00:01\r\u001b[K     |█▍                              | 20kB 21.7MB/s eta 0:00:01\r\u001b[K     |██                              | 30kB 25.2MB/s eta 0:00:01\r\u001b[K     |██▊                             | 40kB 26.2MB/s eta 0:00:01\r\u001b[K     |███▍                            | 51kB 27.8MB/s eta 0:00:01\r\u001b[K     |████                            | 61kB 29.7MB/s eta 0:00:01\r\u001b[K     |████▊                           | 71kB 30.6MB/s eta 0:00:01\r\u001b[K     |█████▍                          | 81kB 30.6MB/s eta 0:00:01\r\u001b[K     |██████                          | 92kB 30.3MB/s eta 0:00:01\r\u001b[K     |██████▊                         | 102kB 30.1MB/s eta 0:00:01\r\u001b[K     |███████▍                        | 112kB 30.1MB/s eta 0:00:01\r\u001b[K     |████████▏                       | 122kB 30.1MB/s eta 0:00:01\r\u001b[K     |████████▉                       | 133kB 30.1MB/s eta 0:00:01\r\u001b[K     |█████████▌                      | 143kB 30.1MB/s eta 0:00:01\r\u001b[K     |██████████▏                     | 153kB 30.1MB/s eta 0:00:01\r\u001b[K     |██████████▉                     | 163kB 30.1MB/s eta 0:00:01\r\u001b[K     |███████████▌                    | 174kB 30.1MB/s eta 0:00:01\r\u001b[K     |████████████▏                   | 184kB 30.1MB/s eta 0:00:01\r\u001b[K     |████████████▉                   | 194kB 30.1MB/s eta 0:00:01\r\u001b[K     |█████████████▌                  | 204kB 30.1MB/s eta 0:00:01\r\u001b[K     |██████████████▏                 | 215kB 30.1MB/s eta 0:00:01\r\u001b[K     |██████████████▉                 | 225kB 30.1MB/s eta 0:00:01\r\u001b[K     |███████████████▋                | 235kB 30.1MB/s eta 0:00:01\r\u001b[K     |████████████████▎               | 245kB 30.1MB/s eta 0:00:01\r\u001b[K     |█████████████████               | 256kB 30.1MB/s eta 0:00:01\r\u001b[K     |█████████████████▋              | 266kB 30.1MB/s eta 0:00:01\r\u001b[K     |██████████████████▎             | 276kB 30.1MB/s eta 0:00:01\r\u001b[K     |███████████████████             | 286kB 30.1MB/s eta 0:00:01\r\u001b[K     |███████████████████▋            | 296kB 30.1MB/s eta 0:00:01\r\u001b[K     |████████████████████▎           | 307kB 30.1MB/s eta 0:00:01\r\u001b[K     |█████████████████████           | 317kB 30.1MB/s eta 0:00:01\r\u001b[K     |█████████████████████▋          | 327kB 30.1MB/s eta 0:00:01\r\u001b[K     |██████████████████████▎         | 337kB 30.1MB/s eta 0:00:01\r\u001b[K     |███████████████████████         | 348kB 30.1MB/s eta 0:00:01\r\u001b[K     |███████████████████████▊        | 358kB 30.1MB/s eta 0:00:01\r\u001b[K     |████████████████████████▍       | 368kB 30.1MB/s eta 0:00:01\r\u001b[K     |█████████████████████████       | 378kB 30.1MB/s eta 0:00:01\r\u001b[K     |█████████████████████████▊      | 389kB 30.1MB/s eta 0:00:01\r\u001b[K     |██████████████████████████▍     | 399kB 30.1MB/s eta 0:00:01\r\u001b[K     |███████████████████████████     | 409kB 30.1MB/s eta 0:00:01\r\u001b[K     |███████████████████████████▊    | 419kB 30.1MB/s eta 0:00:01\r\u001b[K     |████████████████████████████▍   | 430kB 30.1MB/s eta 0:00:01\r\u001b[K     |█████████████████████████████   | 440kB 30.1MB/s eta 0:00:01\r\u001b[K     |█████████████████████████████▊  | 450kB 30.1MB/s eta 0:00:01\r\u001b[K     |██████████████████████████████▌ | 460kB 30.1MB/s eta 0:00:01\r\u001b[K     |███████████████████████████████▏| 471kB 30.1MB/s eta 0:00:01\r\u001b[K     |███████████████████████████████▉| 481kB 30.1MB/s eta 0:00:01\r\u001b[K     |████████████████████████████████| 491kB 30.1MB/s \n",
            "\u001b[?25hRequirement already satisfied: cachetools==4.2.2 in /usr/local/lib/python3.7/dist-packages (from python-telegram-bot) (4.2.2)\n",
            "Collecting tornado>=6.1\n",
            "\u001b[?25l  Downloading https://files.pythonhosted.org/packages/91/a8/9c5902233fa3c2e6a889cbd164333ddda5009669f494e3fadbeee2c03af5/tornado-6.1-cp37-cp37m-manylinux2010_x86_64.whl (428kB)\n",
            "\u001b[K     |████████████████████████████████| 430kB 40.3MB/s \n",
            "\u001b[?25hCollecting APScheduler==3.6.3\n",
            "\u001b[?25l  Downloading https://files.pythonhosted.org/packages/f3/34/9ef20ed473c4fd2c3df54ef77a27ae3fc7500b16b192add4720cab8b2c09/APScheduler-3.6.3-py2.py3-none-any.whl (58kB)\n",
            "\u001b[K     |████████████████████████████████| 61kB 7.5MB/s \n",
            "\u001b[?25hRequirement already satisfied: pytz>=2018.6 in /usr/local/lib/python3.7/dist-packages (from python-telegram-bot) (2018.9)\n",
            "Requirement already satisfied: certifi in /usr/local/lib/python3.7/dist-packages (from python-telegram-bot) (2021.5.30)\n",
            "Requirement already satisfied: setuptools>=0.7 in /usr/local/lib/python3.7/dist-packages (from APScheduler==3.6.3->python-telegram-bot) (57.0.0)\n",
            "Requirement already satisfied: tzlocal>=1.2 in /usr/local/lib/python3.7/dist-packages (from APScheduler==3.6.3->python-telegram-bot) (1.5.1)\n",
            "Requirement already satisfied: six>=1.4.0 in /usr/local/lib/python3.7/dist-packages (from APScheduler==3.6.3->python-telegram-bot) (1.15.0)\n",
            "\u001b[31mERROR: google-colab 1.0.0 has requirement tornado~=5.1.0; python_version >= \"3.0\", but you'll have tornado 6.1 which is incompatible.\u001b[0m\n",
            "Installing collected packages: tornado, APScheduler, python-telegram-bot\n",
            "  Found existing installation: tornado 5.1.1\n",
            "    Uninstalling tornado-5.1.1:\n",
            "      Successfully uninstalled tornado-5.1.1\n",
            "Successfully installed APScheduler-3.6.3 python-telegram-bot-13.6 tornado-6.1\n"
          ],
          "name": "stdout"
        },
        {
          "output_type": "display_data",
          "data": {
            "application/vnd.colab-display-data+json": {
              "pip_warning": {
                "packages": [
                  "tornado"
                ]
              }
            }
          },
          "metadata": {
            "tags": []
          }
        }
      ]
    },
    {
      "cell_type": "code",
      "metadata": {
        "colab": {
          "base_uri": "https://localhost:8080/"
        },
        "id": "L4spVdAI9qjO",
        "outputId": "c826bd97-468c-4226-824b-fee6bc2d9d1e"
      },
      "source": [
        "!pip install selenium"
      ],
      "execution_count": null,
      "outputs": [
        {
          "output_type": "stream",
          "text": [
            "Collecting selenium\n",
            "\u001b[?25l  Downloading https://files.pythonhosted.org/packages/80/d6/4294f0b4bce4de0abf13e17190289f9d0613b0a44e5dd6a7f5ca98459853/selenium-3.141.0-py2.py3-none-any.whl (904kB)\n",
            "\r\u001b[K     |▍                               | 10kB 14.0MB/s eta 0:00:01\r\u001b[K     |▊                               | 20kB 19.5MB/s eta 0:00:01\r\u001b[K     |█                               | 30kB 23.1MB/s eta 0:00:01\r\u001b[K     |█▌                              | 40kB 25.1MB/s eta 0:00:01\r\u001b[K     |█▉                              | 51kB 27.0MB/s eta 0:00:01\r\u001b[K     |██▏                             | 61kB 28.8MB/s eta 0:00:01\r\u001b[K     |██▌                             | 71kB 28.7MB/s eta 0:00:01\r\u001b[K     |███                             | 81kB 29.5MB/s eta 0:00:01\r\u001b[K     |███▎                            | 92kB 30.6MB/s eta 0:00:01\r\u001b[K     |███▋                            | 102kB 31.9MB/s eta 0:00:01\r\u001b[K     |████                            | 112kB 31.9MB/s eta 0:00:01\r\u001b[K     |████▍                           | 122kB 31.9MB/s eta 0:00:01\r\u001b[K     |████▊                           | 133kB 31.9MB/s eta 0:00:01\r\u001b[K     |█████                           | 143kB 31.9MB/s eta 0:00:01\r\u001b[K     |█████▍                          | 153kB 31.9MB/s eta 0:00:01\r\u001b[K     |█████▉                          | 163kB 31.9MB/s eta 0:00:01\r\u001b[K     |██████▏                         | 174kB 31.9MB/s eta 0:00:01\r\u001b[K     |██████▌                         | 184kB 31.9MB/s eta 0:00:01\r\u001b[K     |██████▉                         | 194kB 31.9MB/s eta 0:00:01\r\u001b[K     |███████▎                        | 204kB 31.9MB/s eta 0:00:01\r\u001b[K     |███████▋                        | 215kB 31.9MB/s eta 0:00:01\r\u001b[K     |████████                        | 225kB 31.9MB/s eta 0:00:01\r\u001b[K     |████████▎                       | 235kB 31.9MB/s eta 0:00:01\r\u001b[K     |████████▊                       | 245kB 31.9MB/s eta 0:00:01\r\u001b[K     |█████████                       | 256kB 31.9MB/s eta 0:00:01\r\u001b[K     |█████████▍                      | 266kB 31.9MB/s eta 0:00:01\r\u001b[K     |█████████▉                      | 276kB 31.9MB/s eta 0:00:01\r\u001b[K     |██████████▏                     | 286kB 31.9MB/s eta 0:00:01\r\u001b[K     |██████████▌                     | 296kB 31.9MB/s eta 0:00:01\r\u001b[K     |██████████▉                     | 307kB 31.9MB/s eta 0:00:01\r\u001b[K     |███████████▎                    | 317kB 31.9MB/s eta 0:00:01\r\u001b[K     |███████████▋                    | 327kB 31.9MB/s eta 0:00:01\r\u001b[K     |████████████                    | 337kB 31.9MB/s eta 0:00:01\r\u001b[K     |████████████▎                   | 348kB 31.9MB/s eta 0:00:01\r\u001b[K     |████████████▊                   | 358kB 31.9MB/s eta 0:00:01\r\u001b[K     |█████████████                   | 368kB 31.9MB/s eta 0:00:01\r\u001b[K     |█████████████▍                  | 378kB 31.9MB/s eta 0:00:01\r\u001b[K     |█████████████▊                  | 389kB 31.9MB/s eta 0:00:01\r\u001b[K     |██████████████▏                 | 399kB 31.9MB/s eta 0:00:01\r\u001b[K     |██████████████▌                 | 409kB 31.9MB/s eta 0:00:01\r\u001b[K     |██████████████▉                 | 419kB 31.9MB/s eta 0:00:01\r\u001b[K     |███████████████▏                | 430kB 31.9MB/s eta 0:00:01\r\u001b[K     |███████████████▋                | 440kB 31.9MB/s eta 0:00:01\r\u001b[K     |████████████████                | 450kB 31.9MB/s eta 0:00:01\r\u001b[K     |████████████████▎               | 460kB 31.9MB/s eta 0:00:01\r\u001b[K     |████████████████▋               | 471kB 31.9MB/s eta 0:00:01\r\u001b[K     |█████████████████               | 481kB 31.9MB/s eta 0:00:01\r\u001b[K     |█████████████████▍              | 491kB 31.9MB/s eta 0:00:01\r\u001b[K     |█████████████████▊              | 501kB 31.9MB/s eta 0:00:01\r\u001b[K     |██████████████████▏             | 512kB 31.9MB/s eta 0:00:01\r\u001b[K     |██████████████████▌             | 522kB 31.9MB/s eta 0:00:01\r\u001b[K     |██████████████████▉             | 532kB 31.9MB/s eta 0:00:01\r\u001b[K     |███████████████████▏            | 542kB 31.9MB/s eta 0:00:01\r\u001b[K     |███████████████████▋            | 552kB 31.9MB/s eta 0:00:01\r\u001b[K     |████████████████████            | 563kB 31.9MB/s eta 0:00:01\r\u001b[K     |████████████████████▎           | 573kB 31.9MB/s eta 0:00:01\r\u001b[K     |████████████████████▋           | 583kB 31.9MB/s eta 0:00:01\r\u001b[K     |█████████████████████           | 593kB 31.9MB/s eta 0:00:01\r\u001b[K     |█████████████████████▍          | 604kB 31.9MB/s eta 0:00:01\r\u001b[K     |█████████████████████▊          | 614kB 31.9MB/s eta 0:00:01\r\u001b[K     |██████████████████████          | 624kB 31.9MB/s eta 0:00:01\r\u001b[K     |██████████████████████▌         | 634kB 31.9MB/s eta 0:00:01\r\u001b[K     |██████████████████████▉         | 645kB 31.9MB/s eta 0:00:01\r\u001b[K     |███████████████████████▏        | 655kB 31.9MB/s eta 0:00:01\r\u001b[K     |███████████████████████▌        | 665kB 31.9MB/s eta 0:00:01\r\u001b[K     |████████████████████████        | 675kB 31.9MB/s eta 0:00:01\r\u001b[K     |████████████████████████▎       | 686kB 31.9MB/s eta 0:00:01\r\u001b[K     |████████████████████████▋       | 696kB 31.9MB/s eta 0:00:01\r\u001b[K     |█████████████████████████       | 706kB 31.9MB/s eta 0:00:01\r\u001b[K     |█████████████████████████▍      | 716kB 31.9MB/s eta 0:00:01\r\u001b[K     |█████████████████████████▊      | 727kB 31.9MB/s eta 0:00:01\r\u001b[K     |██████████████████████████      | 737kB 31.9MB/s eta 0:00:01\r\u001b[K     |██████████████████████████▍     | 747kB 31.9MB/s eta 0:00:01\r\u001b[K     |██████████████████████████▉     | 757kB 31.9MB/s eta 0:00:01\r\u001b[K     |███████████████████████████▏    | 768kB 31.9MB/s eta 0:00:01\r\u001b[K     |███████████████████████████▌    | 778kB 31.9MB/s eta 0:00:01\r\u001b[K     |████████████████████████████    | 788kB 31.9MB/s eta 0:00:01\r\u001b[K     |████████████████████████████▎   | 798kB 31.9MB/s eta 0:00:01\r\u001b[K     |████████████████████████████▋   | 808kB 31.9MB/s eta 0:00:01\r\u001b[K     |█████████████████████████████   | 819kB 31.9MB/s eta 0:00:01\r\u001b[K     |█████████████████████████████▍  | 829kB 31.9MB/s eta 0:00:01\r\u001b[K     |█████████████████████████████▊  | 839kB 31.9MB/s eta 0:00:01\r\u001b[K     |██████████████████████████████  | 849kB 31.9MB/s eta 0:00:01\r\u001b[K     |██████████████████████████████▍ | 860kB 31.9MB/s eta 0:00:01\r\u001b[K     |██████████████████████████████▉ | 870kB 31.9MB/s eta 0:00:01\r\u001b[K     |███████████████████████████████▏| 880kB 31.9MB/s eta 0:00:01\r\u001b[K     |███████████████████████████████▌| 890kB 31.9MB/s eta 0:00:01\r\u001b[K     |███████████████████████████████▉| 901kB 31.9MB/s eta 0:00:01\r\u001b[K     |████████████████████████████████| 911kB 31.9MB/s \n",
            "\u001b[?25hRequirement already satisfied: urllib3 in /usr/local/lib/python3.7/dist-packages (from selenium) (1.24.3)\n",
            "Installing collected packages: selenium\n",
            "Successfully installed selenium-3.141.0\n"
          ],
          "name": "stdout"
        }
      ]
    },
    {
      "cell_type": "code",
      "metadata": {
        "id": "VtgOFW_Smmgs"
      },
      "source": [
        "import bs4, requests"
      ],
      "execution_count": null,
      "outputs": []
    },
    {
      "cell_type": "code",
      "metadata": {
        "id": "Q7V5AWiX0jvb",
        "colab": {
          "base_uri": "https://localhost:8080/"
        },
        "outputId": "39ef0986-ab12-4596-a06f-ab4948cc52a3"
      },
      "source": [
        "!pip install kora -q\n",
        "from kora.selenium import wd"
      ],
      "execution_count": null,
      "outputs": [
        {
          "output_type": "stream",
          "text": [
            "\u001b[?25l\r\u001b[K     |█████▊                          | 10kB 18.2MB/s eta 0:00:01\r\u001b[K     |███████████▍                    | 20kB 24.7MB/s eta 0:00:01\r\u001b[K     |█████████████████               | 30kB 23.2MB/s eta 0:00:01\r\u001b[K     |██████████████████████▊         | 40kB 18.0MB/s eta 0:00:01\r\u001b[K     |████████████████████████████▍   | 51kB 20.1MB/s eta 0:00:01\r\u001b[K     |████████████████████████████████| 61kB 6.2MB/s \n",
            "\u001b[?25h\u001b[?25l\r\u001b[K     |██████                          | 10kB 25.4MB/s eta 0:00:01\r\u001b[K     |████████████▏                   | 20kB 31.2MB/s eta 0:00:01\r\u001b[K     |██████████████████▎             | 30kB 34.7MB/s eta 0:00:01\r\u001b[K     |████████████████████████▍       | 40kB 36.7MB/s eta 0:00:01\r\u001b[K     |██████████████████████████████▌ | 51kB 38.3MB/s eta 0:00:01\r\u001b[K     |████████████████████████████████| 61kB 7.0MB/s \n",
            "\u001b[?25h"
          ],
          "name": "stdout"
        }
      ]
    },
    {
      "cell_type": "code",
      "metadata": {
        "id": "07VcyngEx4wh"
      },
      "source": [
        "from telegram.ext import Updater, CommandHandler\n",
        "updater = Updater(token='YOUR TOKEN', use_context=True)"
      ],
      "execution_count": null,
      "outputs": []
    },
    {
      "cell_type": "code",
      "metadata": {
        "id": "5VxqNQ4-ycos"
      },
      "source": [
        "dispatcher = updater.dispatcher"
      ],
      "execution_count": null,
      "outputs": []
    },
    {
      "cell_type": "code",
      "metadata": {
        "colab": {
          "base_uri": "https://localhost:8080/"
        },
        "id": "873YaLsWe4Iu",
        "outputId": "2dc04647-df04-40af-8be0-1a90c066ba4b"
      },
      "source": [
        "pip install torch==1.4.0"
      ],
      "execution_count": null,
      "outputs": [
        {
          "output_type": "stream",
          "text": [
            "Collecting torch==1.4.0\n",
            "\u001b[?25l  Downloading https://files.pythonhosted.org/packages/1a/3b/fa92ece1e58a6a48ec598bab327f39d69808133e5b2fb33002ca754e381e/torch-1.4.0-cp37-cp37m-manylinux1_x86_64.whl (753.4MB)\n",
            "\u001b[K     |████████████████████████████████| 753.4MB 23kB/s \n",
            "\u001b[31mERROR: torchvision 0.10.0+cu102 has requirement torch==1.9.0, but you'll have torch 1.4.0 which is incompatible.\u001b[0m\n",
            "\u001b[31mERROR: torchtext 0.10.0 has requirement torch==1.9.0, but you'll have torch 1.4.0 which is incompatible.\u001b[0m\n",
            "\u001b[?25hInstalling collected packages: torch\n",
            "  Found existing installation: torch 1.9.0+cu102\n",
            "    Uninstalling torch-1.9.0+cu102:\n",
            "      Successfully uninstalled torch-1.9.0+cu102\n",
            "Successfully installed torch-1.4.0\n"
          ],
          "name": "stdout"
        }
      ]
    },
    {
      "cell_type": "code",
      "metadata": {
        "id": "uj_62ocPe9wF",
        "colab": {
          "base_uri": "https://localhost:8080/"
        },
        "outputId": "62c92661-96a7-4bf1-e6fa-4eb9c268016b"
      },
      "source": [
        "!pip3 install transformers==3.5.0"
      ],
      "execution_count": null,
      "outputs": [
        {
          "output_type": "stream",
          "text": [
            "Collecting transformers==3.5.0\n",
            "\u001b[?25l  Downloading https://files.pythonhosted.org/packages/9c/34/fb092588df61bf33f113ade030d1cbe74fb73a0353648f8dd938a223dce7/transformers-3.5.0-py3-none-any.whl (1.3MB)\n",
            "\r\u001b[K     |▎                               | 10kB 13.1MB/s eta 0:00:01\r\u001b[K     |▌                               | 20kB 16.2MB/s eta 0:00:01\r\u001b[K     |▊                               | 30kB 19.9MB/s eta 0:00:01\r\u001b[K     |█                               | 40kB 22.3MB/s eta 0:00:01\r\u001b[K     |█▎                              | 51kB 24.1MB/s eta 0:00:01\r\u001b[K     |█▌                              | 61kB 25.9MB/s eta 0:00:01\r\u001b[K     |█▊                              | 71kB 26.3MB/s eta 0:00:01\r\u001b[K     |██                              | 81kB 26.0MB/s eta 0:00:01\r\u001b[K     |██▎                             | 92kB 27.2MB/s eta 0:00:01\r\u001b[K     |██▌                             | 102kB 27.2MB/s eta 0:00:01\r\u001b[K     |██▊                             | 112kB 27.2MB/s eta 0:00:01\r\u001b[K     |███                             | 122kB 27.2MB/s eta 0:00:01\r\u001b[K     |███▎                            | 133kB 27.2MB/s eta 0:00:01\r\u001b[K     |███▌                            | 143kB 27.2MB/s eta 0:00:01\r\u001b[K     |███▉                            | 153kB 27.2MB/s eta 0:00:01\r\u001b[K     |████                            | 163kB 27.2MB/s eta 0:00:01\r\u001b[K     |████▎                           | 174kB 27.2MB/s eta 0:00:01\r\u001b[K     |████▌                           | 184kB 27.2MB/s eta 0:00:01\r\u001b[K     |████▉                           | 194kB 27.2MB/s eta 0:00:01\r\u001b[K     |█████                           | 204kB 27.2MB/s eta 0:00:01\r\u001b[K     |█████▎                          | 215kB 27.2MB/s eta 0:00:01\r\u001b[K     |█████▌                          | 225kB 27.2MB/s eta 0:00:01\r\u001b[K     |█████▉                          | 235kB 27.2MB/s eta 0:00:01\r\u001b[K     |██████                          | 245kB 27.2MB/s eta 0:00:01\r\u001b[K     |██████▎                         | 256kB 27.2MB/s eta 0:00:01\r\u001b[K     |██████▌                         | 266kB 27.2MB/s eta 0:00:01\r\u001b[K     |██████▉                         | 276kB 27.2MB/s eta 0:00:01\r\u001b[K     |███████                         | 286kB 27.2MB/s eta 0:00:01\r\u001b[K     |███████▎                        | 296kB 27.2MB/s eta 0:00:01\r\u001b[K     |███████▋                        | 307kB 27.2MB/s eta 0:00:01\r\u001b[K     |███████▉                        | 317kB 27.2MB/s eta 0:00:01\r\u001b[K     |████████                        | 327kB 27.2MB/s eta 0:00:01\r\u001b[K     |████████▎                       | 337kB 27.2MB/s eta 0:00:01\r\u001b[K     |████████▋                       | 348kB 27.2MB/s eta 0:00:01\r\u001b[K     |████████▉                       | 358kB 27.2MB/s eta 0:00:01\r\u001b[K     |█████████                       | 368kB 27.2MB/s eta 0:00:01\r\u001b[K     |█████████▎                      | 378kB 27.2MB/s eta 0:00:01\r\u001b[K     |█████████▋                      | 389kB 27.2MB/s eta 0:00:01\r\u001b[K     |█████████▉                      | 399kB 27.2MB/s eta 0:00:01\r\u001b[K     |██████████                      | 409kB 27.2MB/s eta 0:00:01\r\u001b[K     |██████████▎                     | 419kB 27.2MB/s eta 0:00:01\r\u001b[K     |██████████▋                     | 430kB 27.2MB/s eta 0:00:01\r\u001b[K     |██████████▉                     | 440kB 27.2MB/s eta 0:00:01\r\u001b[K     |███████████                     | 450kB 27.2MB/s eta 0:00:01\r\u001b[K     |███████████▍                    | 460kB 27.2MB/s eta 0:00:01\r\u001b[K     |███████████▋                    | 471kB 27.2MB/s eta 0:00:01\r\u001b[K     |███████████▉                    | 481kB 27.2MB/s eta 0:00:01\r\u001b[K     |████████████                    | 491kB 27.2MB/s eta 0:00:01\r\u001b[K     |████████████▍                   | 501kB 27.2MB/s eta 0:00:01\r\u001b[K     |████████████▋                   | 512kB 27.2MB/s eta 0:00:01\r\u001b[K     |████████████▉                   | 522kB 27.2MB/s eta 0:00:01\r\u001b[K     |█████████████                   | 532kB 27.2MB/s eta 0:00:01\r\u001b[K     |█████████████▍                  | 542kB 27.2MB/s eta 0:00:01\r\u001b[K     |█████████████▋                  | 552kB 27.2MB/s eta 0:00:01\r\u001b[K     |█████████████▉                  | 563kB 27.2MB/s eta 0:00:01\r\u001b[K     |██████████████                  | 573kB 27.2MB/s eta 0:00:01\r\u001b[K     |██████████████▍                 | 583kB 27.2MB/s eta 0:00:01\r\u001b[K     |██████████████▋                 | 593kB 27.2MB/s eta 0:00:01\r\u001b[K     |██████████████▉                 | 604kB 27.2MB/s eta 0:00:01\r\u001b[K     |███████████████▏                | 614kB 27.2MB/s eta 0:00:01\r\u001b[K     |███████████████▍                | 624kB 27.2MB/s eta 0:00:01\r\u001b[K     |███████████████▋                | 634kB 27.2MB/s eta 0:00:01\r\u001b[K     |███████████████▉                | 645kB 27.2MB/s eta 0:00:01\r\u001b[K     |████████████████▏               | 655kB 27.2MB/s eta 0:00:01\r\u001b[K     |████████████████▍               | 665kB 27.2MB/s eta 0:00:01\r\u001b[K     |████████████████▋               | 675kB 27.2MB/s eta 0:00:01\r\u001b[K     |████████████████▉               | 686kB 27.2MB/s eta 0:00:01\r\u001b[K     |█████████████████▏              | 696kB 27.2MB/s eta 0:00:01\r\u001b[K     |█████████████████▍              | 706kB 27.2MB/s eta 0:00:01\r\u001b[K     |█████████████████▋              | 716kB 27.2MB/s eta 0:00:01\r\u001b[K     |██████████████████              | 727kB 27.2MB/s eta 0:00:01\r\u001b[K     |██████████████████▏             | 737kB 27.2MB/s eta 0:00:01\r\u001b[K     |██████████████████▍             | 747kB 27.2MB/s eta 0:00:01\r\u001b[K     |██████████████████▋             | 757kB 27.2MB/s eta 0:00:01\r\u001b[K     |███████████████████             | 768kB 27.2MB/s eta 0:00:01\r\u001b[K     |███████████████████▏            | 778kB 27.2MB/s eta 0:00:01\r\u001b[K     |███████████████████▍            | 788kB 27.2MB/s eta 0:00:01\r\u001b[K     |███████████████████▋            | 798kB 27.2MB/s eta 0:00:01\r\u001b[K     |████████████████████            | 808kB 27.2MB/s eta 0:00:01\r\u001b[K     |████████████████████▏           | 819kB 27.2MB/s eta 0:00:01\r\u001b[K     |████████████████████▍           | 829kB 27.2MB/s eta 0:00:01\r\u001b[K     |████████████████████▋           | 839kB 27.2MB/s eta 0:00:01\r\u001b[K     |█████████████████████           | 849kB 27.2MB/s eta 0:00:01\r\u001b[K     |█████████████████████▏          | 860kB 27.2MB/s eta 0:00:01\r\u001b[K     |█████████████████████▍          | 870kB 27.2MB/s eta 0:00:01\r\u001b[K     |█████████████████████▊          | 880kB 27.2MB/s eta 0:00:01\r\u001b[K     |██████████████████████          | 890kB 27.2MB/s eta 0:00:01\r\u001b[K     |██████████████████████▏         | 901kB 27.2MB/s eta 0:00:01\r\u001b[K     |██████████████████████▍         | 911kB 27.2MB/s eta 0:00:01\r\u001b[K     |██████████████████████▊         | 921kB 27.2MB/s eta 0:00:01\r\u001b[K     |███████████████████████         | 931kB 27.2MB/s eta 0:00:01\r\u001b[K     |███████████████████████▏        | 942kB 27.2MB/s eta 0:00:01\r\u001b[K     |███████████████████████▍        | 952kB 27.2MB/s eta 0:00:01\r\u001b[K     |███████████████████████▊        | 962kB 27.2MB/s eta 0:00:01\r\u001b[K     |████████████████████████        | 972kB 27.2MB/s eta 0:00:01\r\u001b[K     |████████████████████████▏       | 983kB 27.2MB/s eta 0:00:01\r\u001b[K     |████████████████████████▍       | 993kB 27.2MB/s eta 0:00:01\r\u001b[K     |████████████████████████▊       | 1.0MB 27.2MB/s eta 0:00:01\r\u001b[K     |█████████████████████████       | 1.0MB 27.2MB/s eta 0:00:01\r\u001b[K     |█████████████████████████▏      | 1.0MB 27.2MB/s eta 0:00:01\r\u001b[K     |█████████████████████████▌      | 1.0MB 27.2MB/s eta 0:00:01\r\u001b[K     |█████████████████████████▊      | 1.0MB 27.2MB/s eta 0:00:01\r\u001b[K     |██████████████████████████      | 1.1MB 27.2MB/s eta 0:00:01\r\u001b[K     |██████████████████████████▏     | 1.1MB 27.2MB/s eta 0:00:01\r\u001b[K     |██████████████████████████▌     | 1.1MB 27.2MB/s eta 0:00:01\r\u001b[K     |██████████████████████████▊     | 1.1MB 27.2MB/s eta 0:00:01\r\u001b[K     |███████████████████████████     | 1.1MB 27.2MB/s eta 0:00:01\r\u001b[K     |███████████████████████████▏    | 1.1MB 27.2MB/s eta 0:00:01\r\u001b[K     |███████████████████████████▌    | 1.1MB 27.2MB/s eta 0:00:01\r\u001b[K     |███████████████████████████▊    | 1.1MB 27.2MB/s eta 0:00:01\r\u001b[K     |████████████████████████████    | 1.1MB 27.2MB/s eta 0:00:01\r\u001b[K     |████████████████████████████▏   | 1.1MB 27.2MB/s eta 0:00:01\r\u001b[K     |████████████████████████████▌   | 1.2MB 27.2MB/s eta 0:00:01\r\u001b[K     |████████████████████████████▊   | 1.2MB 27.2MB/s eta 0:00:01\r\u001b[K     |█████████████████████████████   | 1.2MB 27.2MB/s eta 0:00:01\r\u001b[K     |█████████████████████████████▎  | 1.2MB 27.2MB/s eta 0:00:01\r\u001b[K     |█████████████████████████████▌  | 1.2MB 27.2MB/s eta 0:00:01\r\u001b[K     |█████████████████████████████▊  | 1.2MB 27.2MB/s eta 0:00:01\r\u001b[K     |██████████████████████████████  | 1.2MB 27.2MB/s eta 0:00:01\r\u001b[K     |██████████████████████████████▎ | 1.2MB 27.2MB/s eta 0:00:01\r\u001b[K     |██████████████████████████████▌ | 1.2MB 27.2MB/s eta 0:00:01\r\u001b[K     |██████████████████████████████▊ | 1.2MB 27.2MB/s eta 0:00:01\r\u001b[K     |███████████████████████████████ | 1.3MB 27.2MB/s eta 0:00:01\r\u001b[K     |███████████████████████████████▎| 1.3MB 27.2MB/s eta 0:00:01\r\u001b[K     |███████████████████████████████▌| 1.3MB 27.2MB/s eta 0:00:01\r\u001b[K     |███████████████████████████████▊| 1.3MB 27.2MB/s eta 0:00:01\r\u001b[K     |████████████████████████████████| 1.3MB 27.2MB/s eta 0:00:01\r\u001b[K     |████████████████████████████████| 1.3MB 27.2MB/s \n",
            "\u001b[?25hRequirement already satisfied: tqdm>=4.27 in /usr/local/lib/python3.7/dist-packages (from transformers==3.5.0) (4.41.1)\n",
            "Requirement already satisfied: protobuf in /usr/local/lib/python3.7/dist-packages (from transformers==3.5.0) (3.12.4)\n",
            "Collecting sentencepiece==0.1.91\n",
            "\u001b[?25l  Downloading https://files.pythonhosted.org/packages/f2/e2/813dff3d72df2f49554204e7e5f73a3dc0f0eb1e3958a4cad3ef3fb278b7/sentencepiece-0.1.91-cp37-cp37m-manylinux1_x86_64.whl (1.1MB)\n",
            "\u001b[K     |████████████████████████████████| 1.1MB 30.8MB/s \n",
            "\u001b[?25hRequirement already satisfied: filelock in /usr/local/lib/python3.7/dist-packages (from transformers==3.5.0) (3.0.12)\n",
            "Collecting tokenizers==0.9.3\n",
            "\u001b[?25l  Downloading https://files.pythonhosted.org/packages/7b/ac/f5ba028f0f097d855e1541301e946d4672eb0f30b6e25cb2369075f916d2/tokenizers-0.9.3-cp37-cp37m-manylinux1_x86_64.whl (2.9MB)\n",
            "\u001b[K     |████████████████████████████████| 2.9MB 34.6MB/s \n",
            "\u001b[?25hRequirement already satisfied: numpy in /usr/local/lib/python3.7/dist-packages (from transformers==3.5.0) (1.19.5)\n",
            "Collecting sacremoses\n",
            "\u001b[?25l  Downloading https://files.pythonhosted.org/packages/75/ee/67241dc87f266093c533a2d4d3d69438e57d7a90abb216fa076e7d475d4a/sacremoses-0.0.45-py3-none-any.whl (895kB)\n",
            "\u001b[K     |████████████████████████████████| 901kB 15.2MB/s \n",
            "\u001b[?25hRequirement already satisfied: packaging in /usr/local/lib/python3.7/dist-packages (from transformers==3.5.0) (20.9)\n",
            "Requirement already satisfied: requests in /usr/local/lib/python3.7/dist-packages (from transformers==3.5.0) (2.23.0)\n",
            "Requirement already satisfied: regex!=2019.12.17 in /usr/local/lib/python3.7/dist-packages (from transformers==3.5.0) (2019.12.20)\n",
            "Requirement already satisfied: setuptools in /usr/local/lib/python3.7/dist-packages (from protobuf->transformers==3.5.0) (57.0.0)\n",
            "Requirement already satisfied: six>=1.9 in /usr/local/lib/python3.7/dist-packages (from protobuf->transformers==3.5.0) (1.15.0)\n",
            "Requirement already satisfied: click in /usr/local/lib/python3.7/dist-packages (from sacremoses->transformers==3.5.0) (7.1.2)\n",
            "Requirement already satisfied: joblib in /usr/local/lib/python3.7/dist-packages (from sacremoses->transformers==3.5.0) (1.0.1)\n",
            "Requirement already satisfied: pyparsing>=2.0.2 in /usr/local/lib/python3.7/dist-packages (from packaging->transformers==3.5.0) (2.4.7)\n",
            "Requirement already satisfied: chardet<4,>=3.0.2 in /usr/local/lib/python3.7/dist-packages (from requests->transformers==3.5.0) (3.0.4)\n",
            "Requirement already satisfied: idna<3,>=2.5 in /usr/local/lib/python3.7/dist-packages (from requests->transformers==3.5.0) (2.10)\n",
            "Requirement already satisfied: urllib3!=1.25.0,!=1.25.1,<1.26,>=1.21.1 in /usr/local/lib/python3.7/dist-packages (from requests->transformers==3.5.0) (1.24.3)\n",
            "Requirement already satisfied: certifi>=2017.4.17 in /usr/local/lib/python3.7/dist-packages (from requests->transformers==3.5.0) (2021.5.30)\n",
            "Installing collected packages: sentencepiece, tokenizers, sacremoses, transformers\n",
            "Successfully installed sacremoses-0.0.45 sentencepiece-0.1.91 tokenizers-0.9.3 transformers-3.5.0\n"
          ],
          "name": "stdout"
        }
      ]
    },
    {
      "cell_type": "code",
      "metadata": {
        "id": "hxKeqYIyfDrc",
        "colab": {
          "base_uri": "https://localhost:8080/"
        },
        "outputId": "f7520050-9acf-4678-fcbc-61681c2c023f"
      },
      "source": [
        "!git clone  https://github.com/sberbank-ai/ru-gpts"
      ],
      "execution_count": null,
      "outputs": [
        {
          "output_type": "stream",
          "text": [
            "Cloning into 'ru-gpts'...\n",
            "remote: Enumerating objects: 613, done.\u001b[K\n",
            "remote: Counting objects: 100% (108/108), done.\u001b[K\n",
            "remote: Compressing objects: 100% (49/49), done.\u001b[K\n",
            "remote: Total 613 (delta 66), reused 95 (delta 59), pack-reused 505\u001b[K\n",
            "Receiving objects: 100% (613/613), 360.92 KiB | 15.69 MiB/s, done.\n",
            "Resolving deltas: 100% (366/366), done.\n"
          ],
          "name": "stdout"
        }
      ]
    },
    {
      "cell_type": "code",
      "metadata": {
        "id": "J6J6DmHifEja"
      },
      "source": [
        "import numpy as np\n",
        "import torch"
      ],
      "execution_count": null,
      "outputs": []
    },
    {
      "cell_type": "code",
      "metadata": {
        "id": "3h9M1kLVfnY2",
        "colab": {
          "base_uri": "https://localhost:8080/"
        },
        "outputId": "c57f875e-89f8-4f7c-98df-d647054fa2e9"
      },
      "source": [
        "np.random.seed(42)\n",
        "torch.manual_seed(42)"
      ],
      "execution_count": null,
      "outputs": [
        {
          "output_type": "execute_result",
          "data": {
            "text/plain": [
              "<torch._C.Generator at 0x7f9610693a10>"
            ]
          },
          "metadata": {
            "tags": []
          },
          "execution_count": 10
        }
      ]
    },
    {
      "cell_type": "code",
      "metadata": {
        "id": "0Qvs_mMCfpPZ"
      },
      "source": [
        "from transformers import GPT2LMHeadModel, GPT2Tokenizer"
      ],
      "execution_count": null,
      "outputs": []
    },
    {
      "cell_type": "code",
      "metadata": {
        "id": "lv3A6W-3fqpx"
      },
      "source": [
        "def load_tokenizer_and_model(model_name_or_path):\n",
        "  return GPT2Tokenizer.from_pretrained(model_name_or_path), GPT2LMHeadModel.from_pretrained(model_name_or_path)\n",
        "\n",
        "\n",
        "def generate(\n",
        "    model, tok, text,\n",
        "    do_sample=True, max_length=50, repetition_penalty=5.0,\n",
        "    top_k=5, top_p=0.95, temperature=1,\n",
        "    num_beams=None,\n",
        "    no_repeat_ngram_size=3\n",
        "    ):\n",
        "  input_ids = tok.encode(text, return_tensors=\"pt\")\n",
        "  out = model.generate(\n",
        "      input_ids,\n",
        "      max_length=max_length,\n",
        "      repetition_penalty=repetition_penalty,\n",
        "      do_sample=do_sample,\n",
        "      top_k=top_k, top_p=top_p, temperature=temperature,\n",
        "      num_beams=num_beams, no_repeat_ngram_size=no_repeat_ngram_size\n",
        "      )\n",
        "  return list(map(tok.decode, out))"
      ],
      "execution_count": null,
      "outputs": []
    },
    {
      "cell_type": "code",
      "metadata": {
        "id": "O-9BHwi7fuPg",
        "colab": {
          "base_uri": "https://localhost:8080/",
          "height": 212,
          "referenced_widgets": [
            "6ccf188cab85433f8544be13db459e89",
            "37f3d64154824368a1dd1ed52a7a09d0",
            "e660c9cb309044a7b68e736fcbb5deec",
            "71782eba3eaa439fa14db5d53bc203ff",
            "38e5f199c1654aae88bbbd55d5cd75a1",
            "16ad1930d7204d11973deec33e7a8fa7",
            "a7b561883cc24a719327658c9c966081",
            "85e0e635aa4a415da5ac695399eb670b",
            "65f9aa06467344c3a0c00d704e798350",
            "9bcda8ad246e43fd87990b4d511452a7",
            "5cad71275ec0456fbb76074348f6689b",
            "96fc07e75b6b491d985996b34f593db7",
            "c875414d8817440eb5ae6f80cca5e120",
            "ca465d2565a8487dbd2944ca5c82b733",
            "1eba9e16bc5b4f319a9373d0f54fbfac",
            "608d694a9dcd4c6c9bedfc97d6821c80",
            "266c42952bd1476394658580a1e50461",
            "665f9d75e0c8447ea65555925ac6acfc",
            "200d826326da47f5be1157c5b6508027",
            "f876b5ee263240e8bc5a51ed42c98b3a",
            "205e5a65d1ee4b38b95c4c3578ffc635",
            "b53d9fd175c84a46a53e29531fdbccd4",
            "a330d42043924220a1c5e359b4fc9b89",
            "6c54f39aacbc4751b1744d723f2b58c3",
            "a5b5e713daf9427daa9240696420c2bc",
            "019ecdc386e2460d840d4540bfaa1051",
            "1c54772dc0514887ad1f9af678358373",
            "13c473947d754ff7a46aa3a04daf4dbc",
            "b1e4acdfba1a4e1eb1b0914426724139",
            "19ab1e9dc079409bb313b555847531ab",
            "7bc459e4f7a74ac2a5975296f297ea86",
            "eeaa994b1320495ab7573f7729614660"
          ]
        },
        "outputId": "6d368502-77a5-4e18-e26b-97349e022450"
      },
      "source": [
        "tok, model = load_tokenizer_and_model(\"sberbank-ai/rugpt3large_based_on_gpt2\")"
      ],
      "execution_count": null,
      "outputs": [
        {
          "output_type": "display_data",
          "data": {
            "application/vnd.jupyter.widget-view+json": {
              "model_id": "6ccf188cab85433f8544be13db459e89",
              "version_minor": 0,
              "version_major": 2
            },
            "text/plain": [
              "HBox(children=(FloatProgress(value=0.0, description='Downloading', max=1713123.0, style=ProgressStyle(descript…"
            ]
          },
          "metadata": {
            "tags": []
          }
        },
        {
          "output_type": "stream",
          "text": [
            "\n"
          ],
          "name": "stdout"
        },
        {
          "output_type": "display_data",
          "data": {
            "application/vnd.jupyter.widget-view+json": {
              "model_id": "65f9aa06467344c3a0c00d704e798350",
              "version_minor": 0,
              "version_major": 2
            },
            "text/plain": [
              "HBox(children=(FloatProgress(value=0.0, description='Downloading', max=1270925.0, style=ProgressStyle(descript…"
            ]
          },
          "metadata": {
            "tags": []
          }
        },
        {
          "output_type": "stream",
          "text": [
            "\n"
          ],
          "name": "stdout"
        },
        {
          "output_type": "display_data",
          "data": {
            "application/vnd.jupyter.widget-view+json": {
              "model_id": "266c42952bd1476394658580a1e50461",
              "version_minor": 0,
              "version_major": 2
            },
            "text/plain": [
              "HBox(children=(FloatProgress(value=0.0, description='Downloading', max=609.0, style=ProgressStyle(description_…"
            ]
          },
          "metadata": {
            "tags": []
          }
        },
        {
          "output_type": "stream",
          "text": [
            "\n"
          ],
          "name": "stdout"
        },
        {
          "output_type": "display_data",
          "data": {
            "application/vnd.jupyter.widget-view+json": {
              "model_id": "a5b5e713daf9427daa9240696420c2bc",
              "version_minor": 0,
              "version_major": 2
            },
            "text/plain": [
              "HBox(children=(FloatProgress(value=0.0, description='Downloading', max=3141928084.0, style=ProgressStyle(descr…"
            ]
          },
          "metadata": {
            "tags": []
          }
        },
        {
          "output_type": "stream",
          "text": [
            "\n"
          ],
          "name": "stdout"
        }
      ]
    },
    {
      "cell_type": "code",
      "metadata": {
        "id": "JPlemD2-iQdE"
      },
      "source": [
        "def sberquery(update, context):\n",
        "    try:\n",
        "        s = ' '.join([str(elem) for elem in context.args])\n",
        "        #s = \"Hello world!\"\n",
        "        response = generate(model, tok, s, num_beams=1)[0]\n",
        "    except:\n",
        "        response = \"Я не смог обработать ваш запрос :(\"\n",
        "    context.bot.send_message(chat_id=update.effective_chat.id, text=response)"
      ],
      "execution_count": null,
      "outputs": []
    },
    {
      "cell_type": "code",
      "metadata": {
        "id": "gwgxuDNKirx0"
      },
      "source": [
        "sber_handler = CommandHandler('sbergpt', sberquery)\n",
        "dispatcher.add_handler(sber_handler)"
      ],
      "execution_count": null,
      "outputs": []
    },
    {
      "cell_type": "code",
      "metadata": {
        "id": "j-vI5W7l5IEr"
      },
      "source": [
        "from selenium.webdriver.common.keys import Keys"
      ],
      "execution_count": null,
      "outputs": []
    },
    {
      "cell_type": "code",
      "metadata": {
        "id": "zqUIlU1R6ETE"
      },
      "source": [
        "import time"
      ],
      "execution_count": null,
      "outputs": []
    },
    {
      "cell_type": "code",
      "metadata": {
        "id": "7p0y1aZ_O2iD"
      },
      "source": [
        "def yarequest(context):\n",
        "    try:\n",
        "        response = str(wd.find_element_by_xpath('//*[@id=\"app\"]/div/div[3]/div/div[1]/span[2]'))[29:-7]\n",
        "    except:\n",
        "        response = 'Я не смог обработать ваш запрос :('\n",
        "    context.bot.send_message(chat_id=context.job.context, text=response)"
      ],
      "execution_count": null,
      "outputs": []
    },
    {
      "cell_type": "code",
      "metadata": {
        "id": "ZgvO18L67ZcA"
      },
      "source": [
        "def yaquery(update, context):\n",
        "    try:\n",
        "        wd.get(\"https://yandex.ru/lab/yalm?style=0\")\n",
        "        deal = wd.find_element_by_xpath('//*[@id=\"app\"]/div/div/button')\n",
        "        deal.click()\n",
        "        text = wd.find_element_by_xpath('//*[@id=\"app\"]/div/div[2]/div[3]/span/span[2]/textarea')\n",
        "        s = ' '.join([str(elem) for elem in context.args])\n",
        "        text.send_keys(s)\n",
        "        text.send_keys(Keys.ENTER)\n",
        "        response = 'Запрос принят!'\n",
        "        context.job_queue.run_once(yarequest, 7, context=update.effective_chat.id)\n",
        "    except:\n",
        "        response = 'Запрос не принят :('\n",
        "    context.bot.send_message(chat_id=update.effective_chat.id, text=response)"
      ],
      "execution_count": null,
      "outputs": []
    },
    {
      "cell_type": "code",
      "metadata": {
        "id": "FwBpU6IWwgcK"
      },
      "source": [
        "def applytheory(context):\n",
        "    style = wd.find_element_by_xpath('//*[@id=\"app\"]/div/div[1]/div/div[2]/button')\n",
        "    style.click()\n",
        "    text = wd.find_element_by_xpath('//*[@id=\"app\"]/div/div[2]/div[3]/span/span[2]/textarea')\n",
        "    args = context.job.context[1]\n",
        "    s = ' '.join([str(elem) for elem in args])\n",
        "    text.send_keys(s)\n",
        "    text.send_keys(Keys.ENTER)\n",
        "    context.job_queue.run_once(yarequest, 7, context=context.job.context[0])\n",
        "\n",
        "def theory(update, context):\n",
        "    try:\n",
        "        wd.get(\"https://yandex.ru/lab/yalm\")\n",
        "        deal = wd.find_element_by_xpath('//*[@id=\"app\"]/div/div/button')\n",
        "        deal.click()\n",
        "        response = 'Запрос принят!'\n",
        "        context.job_queue.run_once(applytheory, 1, context=[update.effective_chat.id, context.args])\n",
        "    except:\n",
        "        response = 'Запрос не принят :('\n",
        "    context.bot.send_message(chat_id=update.effective_chat.id, text=response)"
      ],
      "execution_count": null,
      "outputs": []
    },
    {
      "cell_type": "code",
      "metadata": {
        "id": "VyaIyJ6AxDfU"
      },
      "source": [
        "def applytv(context):\n",
        "    style = wd.find_element_by_xpath('//*[@id=\"app\"]/div/div[1]/div/div[3]/button')\n",
        "    style.click()\n",
        "    text = wd.find_element_by_xpath('//*[@id=\"app\"]/div/div[2]/div[3]/span/span[2]/textarea')\n",
        "    args = context.job.context[1]\n",
        "    s = ' '.join([str(elem) for elem in args])\n",
        "    text.send_keys(s)\n",
        "    text.send_keys(Keys.ENTER)\n",
        "    context.job_queue.run_once(yarequest, 7, context=context.job.context[0])\n",
        "\n",
        "def tv(update, context):\n",
        "    try:\n",
        "        wd.get(\"https://yandex.ru/lab/yalm\")\n",
        "        deal = wd.find_element_by_xpath('//*[@id=\"app\"]/div/div/button')\n",
        "        deal.click()\n",
        "        response = 'Запрос принят!'\n",
        "        context.job_queue.run_once(applytv, 1, context=[update.effective_chat.id, context.args])\n",
        "    except:\n",
        "        response = 'Запрос не принят :('\n",
        "    context.bot.send_message(chat_id=update.effective_chat.id, text=response)"
      ],
      "execution_count": null,
      "outputs": []
    },
    {
      "cell_type": "code",
      "metadata": {
        "id": "wFcWsNJ3xJK9"
      },
      "source": [
        "def applytoast(context):\n",
        "    style = wd.find_element_by_xpath('//*[@id=\"app\"]/div/div[1]/div/div[4]/button')\n",
        "    style.click()\n",
        "    text = wd.find_element_by_xpath('//*[@id=\"app\"]/div/div[2]/div[3]/span/span[2]/textarea')\n",
        "    args = context.job.context[1]\n",
        "    s = ' '.join([str(elem) for elem in args])\n",
        "    text.send_keys(s)\n",
        "    text.send_keys(Keys.ENTER)\n",
        "    context.job_queue.run_once(yarequest, 7, context=context.job.context[0])\n",
        "\n",
        "def toast(update, context):\n",
        "    try:\n",
        "        wd.get(\"https://yandex.ru/lab/yalm\")\n",
        "        deal = wd.find_element_by_xpath('//*[@id=\"app\"]/div/div/button')\n",
        "        deal.click()\n",
        "        response = 'Запрос принят!'\n",
        "        context.job_queue.run_once(applytoast, 1, context=[update.effective_chat.id, context.args])\n",
        "    except:\n",
        "        response = 'Запрос не принят :('\n",
        "    context.bot.send_message(chat_id=update.effective_chat.id, text=response)"
      ],
      "execution_count": null,
      "outputs": []
    },
    {
      "cell_type": "code",
      "metadata": {
        "id": "SRS0ZRAjKAPg"
      },
      "source": [
        "def applystatham(context):\n",
        "    style = wd.find_element_by_xpath('//*[@id=\"app\"]/div/div[1]/div/div[5]/button')\n",
        "    style.click()\n",
        "    text = wd.find_element_by_xpath('//*[@id=\"app\"]/div/div[2]/div[3]/span/span[2]/textarea')\n",
        "    args = context.job.context[1]\n",
        "    s = ' '.join([str(elem) for elem in args])\n",
        "    text.send_keys(s)\n",
        "    text.send_keys(Keys.ENTER)\n",
        "    context.job_queue.run_once(yarequest, 7, context=context.job.context[0])\n",
        "\n",
        "def statham(update, context):\n",
        "    try:\n",
        "        wd.get(\"https://yandex.ru/lab/yalm\")\n",
        "        deal = wd.find_element_by_xpath('//*[@id=\"app\"]/div/div/button')\n",
        "        deal.click()\n",
        "        response = 'Запрос принят!'\n",
        "        context.job_queue.run_once(applystatham, 1, context=[update.effective_chat.id, context.args])\n",
        "    except:\n",
        "        response = 'Запрос не принят :('\n",
        "    context.bot.send_message(chat_id=update.effective_chat.id, text=response)"
      ],
      "execution_count": null,
      "outputs": []
    },
    {
      "cell_type": "code",
      "metadata": {
        "id": "krZT1rovxWaK"
      },
      "source": [
        "def applyslogan(context):\n",
        "    style = wd.find_element_by_xpath('//*[@id=\"app\"]/div/div[1]/div/div[6]/button')\n",
        "    style.click()\n",
        "    text = wd.find_element_by_xpath('//*[@id=\"app\"]/div/div[2]/div[3]/span/span[2]/textarea')\n",
        "    args = context.job.context[1]\n",
        "    s = ' '.join([str(elem) for elem in args])\n",
        "    text.send_keys(s)\n",
        "    text.send_keys(Keys.ENTER)\n",
        "    context.job_queue.run_once(yarequest, 7, context=context.job.context[0])\n",
        "\n",
        "def slogan(update, context):\n",
        "    try:\n",
        "        wd.get(\"https://yandex.ru/lab/yalm\")\n",
        "        deal = wd.find_element_by_xpath('//*[@id=\"app\"]/div/div/button')\n",
        "        deal.click()\n",
        "        response = 'Запрос принят!'\n",
        "        context.job_queue.run_once(applyslogan, 1, context=[update.effective_chat.id, context.args])\n",
        "    except:\n",
        "        response = 'Запрос не принят :('\n",
        "    context.bot.send_message(chat_id=update.effective_chat.id, text=response)"
      ],
      "execution_count": null,
      "outputs": []
    },
    {
      "cell_type": "code",
      "metadata": {
        "id": "h7TzTc-VxeXz"
      },
      "source": [
        "def applyshort(context):\n",
        "    style = wd.find_element_by_xpath('//*[@id=\"app\"]/div/div[1]/div/div[7]/button')\n",
        "    style.click()\n",
        "    text = wd.find_element_by_xpath('//*[@id=\"app\"]/div/div[2]/div[3]/span/span[2]/textarea')\n",
        "    args = context.job.context[1]\n",
        "    s = ' '.join([str(elem) for elem in args])\n",
        "    text.send_keys(s)\n",
        "    text.send_keys(Keys.ENTER)\n",
        "    context.job_queue.run_once(yarequest, 7, context=context.job.context[0])\n",
        "\n",
        "def short(update, context):\n",
        "    try:\n",
        "        wd.get(\"https://yandex.ru/lab/yalm\")\n",
        "        deal = wd.find_element_by_xpath('//*[@id=\"app\"]/div/div/button')\n",
        "        deal.click()\n",
        "        response = 'Запрос принят!'\n",
        "        context.job_queue.run_once(applyshort, 1, context=[update.effective_chat.id, context.args])\n",
        "    except:\n",
        "        response = 'Запрос не принят :('\n",
        "    context.bot.send_message(chat_id=update.effective_chat.id, text=response)"
      ],
      "execution_count": null,
      "outputs": []
    },
    {
      "cell_type": "code",
      "metadata": {
        "id": "KVJrupSKxkcD"
      },
      "source": [
        "def applyinsta(context):\n",
        "    style = wd.find_element_by_xpath('//*[@id=\"app\"]/div/div[1]/div/div[8]/button')\n",
        "    style.click()\n",
        "    text = wd.find_element_by_xpath('//*[@id=\"app\"]/div/div[2]/div[3]/span/span[2]/textarea')\n",
        "    args = context.job.context[1]\n",
        "    s = ' '.join([str(elem) for elem in args])\n",
        "    text.send_keys(s)\n",
        "    text.send_keys(Keys.ENTER)\n",
        "    context.job_queue.run_once(yarequest, 7, context=context.job.context[0])\n",
        "\n",
        "def insta(update, context):\n",
        "    try:\n",
        "        wd.get(\"https://yandex.ru/lab/yalm\")\n",
        "        deal = wd.find_element_by_xpath('//*[@id=\"app\"]/div/div/button')\n",
        "        deal.click()\n",
        "        response = 'Запрос принят!'\n",
        "        context.job_queue.run_once(applyinsta, 1, context=[update.effective_chat.id, context.args])\n",
        "    except:\n",
        "        response = 'Запрос не принят :('\n",
        "    context.bot.send_message(chat_id=update.effective_chat.id, text=response)"
      ],
      "execution_count": null,
      "outputs": []
    },
    {
      "cell_type": "code",
      "metadata": {
        "id": "MzQCux1vxsXE"
      },
      "source": [
        "def applywiki(context):\n",
        "    style = wd.find_element_by_xpath('//*[@id=\"app\"]/div/div[1]/div/div[9]/button')\n",
        "    style.click()\n",
        "    text = wd.find_element_by_xpath('//*[@id=\"app\"]/div/div[2]/div[3]/span/span[2]/textarea')\n",
        "    args = context.job.context[1]\n",
        "    s = ' '.join([str(elem) for elem in args])\n",
        "    text.send_keys(s)\n",
        "    text.send_keys(Keys.ENTER)\n",
        "    context.job_queue.run_once(yarequest, 7, context=context.job.context[0])\n",
        "\n",
        "def wiki(update, context):\n",
        "    try:\n",
        "        wd.get(\"https://yandex.ru/lab/yalm\")\n",
        "        deal = wd.find_element_by_xpath('//*[@id=\"app\"]/div/div/button')\n",
        "        deal.click()\n",
        "        response = 'Запрос принят!'\n",
        "        context.job_queue.run_once(applyinsta, wiki, context=[update.effective_chat.id, context.args])\n",
        "    except:\n",
        "        response = 'Запрос не принят :('\n",
        "    context.bot.send_message(chat_id=update.effective_chat.id, text=response)"
      ],
      "execution_count": null,
      "outputs": []
    },
    {
      "cell_type": "code",
      "metadata": {
        "id": "tmMdzBpm8e7t"
      },
      "source": [
        "yaquery_handler = CommandHandler('yalm', yaquery)\n",
        "theory_handler = CommandHandler('theory', theory)\n",
        "tv_handler = CommandHandler('tv', tv)\n",
        "toast_handler = CommandHandler('toast', toast)\n",
        "slogan_handler = CommandHandler('slogan', slogan)\n",
        "short_handler = CommandHandler('short', short)\n",
        "insta_handler = CommandHandler('insta', insta)\n",
        "wiki_handler = CommandHandler('wiki', wiki)\n",
        "statham_handler = CommandHandler('statham', statham)\n",
        "dispatcher.add_handler(yaquery_handler)\n",
        "dispatcher.add_handler(statham_handler)\n",
        "dispatcher.add_handler(theory_handler)\n",
        "dispatcher.add_handler(tv_handler)\n",
        "dispatcher.add_handler(toast_handler)\n",
        "dispatcher.add_handler(slogan_handler)\n",
        "dispatcher.add_handler(short_handler)\n",
        "dispatcher.add_handler(insta_handler)\n",
        "dispatcher.add_handler(wiki_handler)"
      ],
      "execution_count": null,
      "outputs": []
    },
    {
      "cell_type": "code",
      "metadata": {
        "colab": {
          "base_uri": "https://localhost:8080/"
        },
        "id": "14agkdwa8z4G",
        "outputId": "dadc5e0b-3c01-4c6d-df99-9658bc98dd9c"
      },
      "source": [
        "updater.start_polling()"
      ],
      "execution_count": null,
      "outputs": [
        {
          "output_type": "execute_result",
          "data": {
            "text/plain": [
              "<queue.Queue at 0x7f965cd8da50>"
            ]
          },
          "metadata": {
            "tags": []
          },
          "execution_count": 30
        }
      ]
    },
    {
      "cell_type": "code",
      "metadata": {
        "id": "7KjJoN_7qY37"
      },
      "source": [
        ""
      ],
      "execution_count": null,
      "outputs": []
    }
  ]
}